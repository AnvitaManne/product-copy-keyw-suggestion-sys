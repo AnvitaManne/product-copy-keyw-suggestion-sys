{
 "cells": [
  {
   "cell_type": "code",
   "execution_count": null,
   "id": "dda8818d-ae7b-4199-87eb-1948051817f3",
   "metadata": {},
   "outputs": [],
   "source": [
    "!pip install pandas spacy transformers scikit-learn numpy"
   ]
  },
  {
   "cell_type": "code",
   "execution_count": null,
   "id": "7c64b360-4230-4934-91b2-ad267a40ccb4",
   "metadata": {},
   "outputs": [],
   "source": [
    "!pip install numpy\n"
   ]
  },
  {
   "cell_type": "code",
   "execution_count": null,
   "id": "b8ee4c7a-73e8-44b7-b91c-37bb878bce7f",
   "metadata": {},
   "outputs": [],
   "source": [
    "import sys\n",
    "!{sys.executable} -m pip install numpy\n"
   ]
  },
  {
   "cell_type": "code",
   "execution_count": null,
   "id": "89c9b895-4508-49e2-a7db-e1761e10356c",
   "metadata": {},
   "outputs": [],
   "source": [
    "import shutil\n",
    "\n",
    "folder_path = r\"C:\\Users\\anvit\\myenv\\Lib\\site-packages\\numpy.libs\"\n",
    "shutil.rmtree(folder_path, ignore_errors=True)\n"
   ]
  },
  {
   "cell_type": "code",
   "execution_count": null,
   "id": "fc4a4b23-acb3-43fc-a455-9105e367eb4c",
   "metadata": {},
   "outputs": [],
   "source": [
    "import sys\n",
    "!{sys.executable} -m pip install --force-reinstall numpy\n"
   ]
  },
  {
   "cell_type": "code",
   "execution_count": null,
   "id": "9cf825dd-3750-4e8a-857a-9374e39cfbb5",
   "metadata": {},
   "outputs": [],
   "source": [
    "import numpy as np\n",
    "print(np.__version__)\n"
   ]
  },
  {
   "cell_type": "code",
   "execution_count": null,
   "id": "9d684b57-5336-4870-867a-90cc4ab615ae",
   "metadata": {},
   "outputs": [],
   "source": [
    "import spacy.cli\n",
    "spacy.cli.download(\"en_core_web_sm\")\n"
   ]
  },
  {
   "cell_type": "code",
   "execution_count": null,
   "id": "81fdc477-0751-4a81-b07f-54a1d222bcbe",
   "metadata": {},
   "outputs": [],
   "source": [
    "import openai\n",
    "import os\n",
    "\n",
    "os.environ[\"OPENAI_API_KEY\"] = \"YOUR_API_KEY_HERE\"\n",
    "openai.api_key = os.getenv(\"OPENAI_API_KEY\")\n"
   ]
  },
  {
   "cell_type": "code",
   "execution_count": null,
   "id": "357736bf-7ee5-4f30-85ad-d5d38495bf08",
   "metadata": {},
   "outputs": [],
   "source": [
    "product_data_input = {\n",
    "    \"name\": \"Sparkle Clean Multi-Surface Spray\",\n",
    "    \"category\": \"Household Cleaning\",\n",
    "    \"description\": \"A powerful, plant-based cleaning spray that easily removes grease and grime from all surfaces. Leaves a fresh, natural scent.\",\n",
    "    \"features\": [\n",
    "        \"Plant-based formula\",\n",
    "        \"Safe for multiple surfaces (counters, glass, wood)\",\n",
    "        \"Streak-free shine\",\n",
    "        \"Fresh citrus scent\",\n",
    "        \"No harsh chemicals\"\n",
    "    ],\n",
    "    \"benefits\": [\n",
    "        \"Makes cleaning quick and easy\",\n",
    "        \"Keeps your home safe for kids and pets\",\n",
    "        \"Leaves surfaces sparkling clean\",\n",
    "        \"Fills your home with a pleasant aroma\",\n",
    "        \"Eco-friendly choice\"\n",
    "    ],\n",
    "    \"usps\": [ # Unique Selling Points - what makes it special?\n",
    "        \"Dissolves tough grease instantly\",\n",
    "        \"Biodegradable ingredients\",\n",
    "        \"Comes in a reusable spray bottle\"\n",
    "    ],\n",
    "    \"target_audience\": \"Busy parents, eco-conscious homeowners\",\n",
    "    \"tone_of_voice\": \"Friendly, effective, trustworthy\" # Choose: informative, exciting, professional, etc.\n",
    "}"
   ]
  },
  {
   "cell_type": "code",
   "execution_count": null,
   "id": "6bfe42f5-eea9-419d-b41d-2d5f3d6fd4dc",
   "metadata": {},
   "outputs": [],
   "source": [
    "import sys\n",
    "!{sys.executable} -m pip uninstall -y pillow\n"
   ]
  },
  {
   "cell_type": "code",
   "execution_count": null,
   "id": "8677a409-76e0-4019-9840-06742fe7e61d",
   "metadata": {},
   "outputs": [],
   "source": [
    "!{sys.executable} -m pip install --no-cache-dir pillow\n"
   ]
  },
  {
   "cell_type": "code",
   "execution_count": null,
   "id": "07eeb19c-ccdd-4857-9074-8a3f102b2bad",
   "metadata": {},
   "outputs": [],
   "source": [
    "from PIL import Image\n",
    "print(\"Pillow is working \")\n"
   ]
  },
  {
   "cell_type": "code",
   "execution_count": null,
   "id": "6cffcc26-7fd5-4074-8f85-79925f74f6ef",
   "metadata": {},
   "outputs": [],
   "source": [
    "\n",
    "!pip uninstall -y torch torchvision torchaudio\n",
    "!pip cache purge\n"
   ]
  },
  {
   "cell_type": "code",
   "execution_count": 4,
   "id": "24bc7d85-01d4-44aa-b730-af7536652249",
   "metadata": {},
   "outputs": [
    {
     "name": "stdout",
     "output_type": "stream",
     "text": [
      "Torch version: 2.7.0+cpu\n",
      "Using CPU 💻\n"
     ]
    }
   ],
   "source": [
    "import torch\n",
    "print(\"Torch version:\", torch.__version__)\n",
    "print(\"CUDA available?\" if torch.cuda.is_available() else \"Using CPU 💻\")\n"
   ]
  },
  {
   "cell_type": "code",
   "execution_count": 26,
   "id": "0f4ee186-f2e9-489e-b51e-772d92332ea7",
   "metadata": {},
   "outputs": [
    {
     "name": "stdout",
     "output_type": "stream",
     "text": [
      "Scikit-learn version: 1.6.1\n"
     ]
    }
   ],
   "source": [
    "import sklearn\n",
    "print(\"Scikit-learn version:\", sklearn.__version__)\n"
   ]
  },
  {
   "cell_type": "code",
   "execution_count": 24,
   "id": "bca425ad-f06d-4b51-870c-d835fad28416",
   "metadata": {},
   "outputs": [],
   "source": [
    "import shutil\n",
    "\n",
    "folder_path = r\"C:\\Users\\anvit\\myenv\\Lib\\site-packages\\scipy\"\n",
    "shutil.rmtree(folder_path, ignore_errors=True)\n"
   ]
  },
  {
   "cell_type": "code",
   "execution_count": 27,
   "id": "762197b8-69d9-41cd-8673-65837b07b779",
   "metadata": {},
   "outputs": [
    {
     "name": "stderr",
     "output_type": "stream",
     "text": [
      "Device set to use cpu\n"
     ]
    },
    {
     "name": "stdout",
     "output_type": "stream",
     "text": [
      "--- Product Data Processed ---\n",
      "Product Name: Sparkle Clean Multi-Surface Spray\n",
      "Category: Household Cleaning\n",
      "Initial Keywords: ['sparkle clean multi-surface spray', 'household cleaning', 'plant-based formula', 'safe for multiple surfaces (counters, glass, wood)', 'streak-free shine', 'fresh citrus scent', 'no harsh chemicals', 'household cleaning sparkle clean multi-surface spray']\n",
      "\n"
     ]
    }
   ],
   "source": [
    "#data preperation\n",
    "import re\n",
    "import spacy\n",
    "from transformers import pipeline, set_seed\n",
    "from sklearn.feature_extraction.text import TfidfVectorizer\n",
    "from sklearn.metrics.pairwise import cosine_similarity\n",
    "import numpy as np\n",
    "\n",
    "# Load the English language model for text understanding\n",
    "nlp = spacy.load(\"en_core_web_sm\")\n",
    "\n",
    "# Set up the text generation AI model (Flan-T5 is a good general-purpose model)\n",
    "text_generator = pipeline('text2text-generation', model=\"google/flan-t5-base\", device=-1) # -1 means use CPU\n",
    "set_seed(42) # helps get similar results each time you run it\n",
    "\n",
    "# --- Helper Functions ---\n",
    "def clean_text(text):\n",
    "    text = str(text) \n",
    "    text = re.sub(r'\\s+', ' ', text).strip() # Remove extra spaces\n",
    "    return text\n",
    "\n",
    "def create_prompt(data, length=\"medium\", tone=\"informative\", audience=\"general consumers\"):\n",
    "    # instruction for the AI\n",
    "    product_name = data.get(\"name\", \"A fantastic product\")\n",
    "    category = data.get(\"category\", \"general merchandise\")\n",
    "    features = \", \".join(data.get(\"features\", []))\n",
    "    benefits = \", \".join(data.get(\"benefits\", []))\n",
    "    usps = \", \".join(data.get(\"usps\", []))\n",
    "\n",
    "    length_instructions = {\n",
    "        \"short\": \"a concise, impactful 2-3 sentence description\",\n",
    "        \"medium\": \"a detailed 4-6 sentence description, covering key aspects\",\n",
    "        \"long\": \"a comprehensive 8-12 sentence description, highlighting all features and benefits\"\n",
    "    }.get(length, \"a detailed description\")\n",
    "\n",
    "    prompt = f\"\"\"Generate {length_instructions} for a product.\n",
    "Product Name: {product_name}\n",
    "Category: {category}\n",
    "Key Features: {features}\n",
    "Benefits: {benefits}\n",
    "Unique Selling Points: {usps}\n",
    "Target Audience: {audience}\n",
    "Tone of Voice: {tone}\n",
    "\n",
    "Make sure the copy is engaging, highlights benefits, and encourages purchase.\n",
    "\"\"\"\n",
    "    return prompt\n",
    "\n",
    "#process input product data\n",
    "processed_product_info = {\n",
    "    \"name\": clean_text(product_data_input.get(\"name\", \"\")),\n",
    "    \"category\": clean_text(product_data_input.get(\"category\", \"\")),\n",
    "    \"raw_description\": clean_text(product_data_input.get(\"description\", \"\")),\n",
    "    \"features\": [clean_text(f) for f in product_data_input.get(\"features\", []) if f],\n",
    "    \"benefits\": [clean_text(b) for b in product_data_input.get(\"benefits\", []) if b],\n",
    "    \"usps\": [clean_text(u) for u in product_data_input.get(\"usps\", []) if u],\n",
    "    \"target_audience\": clean_text(product_data_input.get(\"target_audience\", \"general consumers\")),\n",
    "    \"tone_of_voice\": clean_text(product_data_input.get(\"tone_of_voice\", \"informative\"))\n",
    "}\n",
    "\n",
    "if not processed_product_info[\"benefits\"] and processed_product_info[\"features\"]:\n",
    "    processed_product_info[\"benefits\"] = processed_product_info[\"features\"]\n",
    "\n",
    "# extract initial keywords from basic info\n",
    "initial_keywords = [\n",
    "    processed_product_info[\"name\"].lower(),\n",
    "    processed_product_info[\"category\"].lower()\n",
    "]\n",
    "initial_keywords.extend([f.lower() for f in processed_product_info[\"features\"]])\n",
    "initial_keywords.append(f\"{processed_product_info['category'].lower()} {processed_product_info['name'].lower()}\")\n",
    "\n",
    "print(\"--- Product Data Processed ---\")\n",
    "print(f\"Product Name: {processed_product_info['name']}\")\n",
    "print(f\"Category: {processed_product_info['category']}\")\n",
    "print(f\"Initial Keywords: {initial_keywords}\\n\")"
   ]
  },
  {
   "cell_type": "code",
   "execution_count": 39,
   "id": "b4b5e9da-6625-4757-959e-ec320541841b",
   "metadata": {},
   "outputs": [
    {
     "name": "stdout",
     "output_type": "stream",
     "text": [
      "Generating Product Copy (Short)\n",
      "Short Copy 1:\n",
      "Sparkle Clean Multi-Surface Spray is a reusable spray bottle that is safe for multiple surfaces. It is a plant-based formula that is safe for multiple surfaces (counters, glass, wood). It has a citrus\n",
      "\n",
      "Short Copy 2:\n",
      "Sparkle Clean Multi-Surface Spray is a household cleaning spray for all surfaces. It's non-toxic and leaves surfaces sparkling clean. It's also biodegradable.\n",
      "\n",
      "Generating Product Copy (Medium)\n",
      "Medium Copy 1:\n",
      "Sparkle Clean Multi-Surface Spray is a multi-purpose cleaning spray that is designed to clean multiple surfaces. It is available in a reusable spray bottle and is formulated to remove tough grease.\n",
      "\n",
      "Medium Copy 2:\n",
      "Sparkle Clean Multi-Surface Spray is a house cleaning spray that is made with a plant-based formula that can be used to clean multiple surfaces. It is safe for multiple surfaces, and is non-toxic. The spray can be used on all types of surfaces including glass, counters, glass, wood, and counters.\n",
      "\n",
      "Generating Product Copy (Long)\n",
      "Long Copy 1:\n",
      "Sparkle Clean Multi-Surface Spray category: Household Cleaning\n",
      "\n"
     ]
    }
   ],
   "source": [
    "#product copy\n",
    "\n",
    "def generate_product_copy(data, length=\"medium\", num_variations=2):\n",
    "    prompts = []\n",
    "    \n",
    "    # Define the instruction based on length\n",
    "    length_prompt_map = {\n",
    "        \"short\": \"Write a catchy and concise product description (1-2 lines).\",\n",
    "        \"medium\": \"Write a detailed product description (1 paragraph) that highlights the features and benefits.\",\n",
    "        \"long\": \"Write a long, persuasive product description (3 paragraphs) that emotionally connects with the target audience and explains how the product improves their life.\"\n",
    "    }\n",
    "\n",
    "    for _ in range(num_variations):\n",
    "        prompt = f\"\"\"{length_prompt_map.get(length, '')}\n",
    "\n",
    "Product Name: {data.get('product_name')}\n",
    "Product Category: {data.get('product_category')}\n",
    "Product Features: {', '.join(data.get('features', []))}\n",
    "Target Audience: {data.get('target_audience')}\n",
    "Tone: {data.get('tone_of_voice')}\n",
    "\"\"\"\n",
    "        prompts.append(prompt)\n",
    "\n",
    "    generated_texts = []\n",
    "    for p in prompts:\n",
    "        response = openai.ChatCompletion.create(\n",
    "            model=\"gpt-3.5-turbo\",  # or \"gpt-4\" if you have access\n",
    "            messages=[\n",
    "                {\"role\": \"system\", \"content\": \"You are a professional copywriter.\"},\n",
    "                {\"role\": \"user\", \"content\": p}\n",
    "            ],\n",
    "            temperature=0.7,\n",
    "            top_p=0.9,\n",
    "            max_tokens=300,\n",
    "            n=1\n",
    "        )\n",
    "        copy_text = response.choices[0].message[\"content\"].strip()\n",
    "        generated_texts.append(copy_text)\n",
    "\n",
    "    return generated_texts\n",
    "\n",
    "\n",
    "print(\"Generating Product Copy (Short)\")\n",
    "short_copies = generate_product_copy(processed_product_info, length=\"short\", num_variations=2)\n",
    "for i, copy in enumerate(short_copies):\n",
    "    print(f\"Short Copy {i+1}:\\n{copy}\\n\")\n",
    "\n",
    "print(\"Generating Product Copy (Medium)\")\n",
    "medium_copies = generate_product_copy(processed_product_info, length=\"medium\", num_variations=2)\n",
    "for i, copy in enumerate(medium_copies):\n",
    "    print(f\"Medium Copy {i+1}:\\n{copy}\\n\")\n",
    "\n",
    "print(\"Generating Product Copy (Long)\")\n",
    "long_copies = generate_product_copy(processed_product_info, length=\"long\", num_variations=1)\n",
    "for i, copy in enumerate(long_copies):\n",
    "    print(f\"Long Copy {i+1}:\\n{copy}\\n\")\n",
    "\n",
    "# combine all generated copies for keyword suggestion\n",
    "all_generated_copies = short_copies + medium_copies + long_copies"
   ]
  },
  {
   "cell_type": "code",
   "execution_count": 40,
   "id": "7f6cb0e6-63e9-4fe6-ba20-167a2861442d",
   "metadata": {},
   "outputs": [
    {
     "name": "stdout",
     "output_type": "stream",
     "text": [
      " Suggesting Keywords \n",
      "Suggested Keywords: ['sparkle clean multi-surface spray', 'multiple surfaces', 'the spray', 'a household cleaning spray', 'a reusable spray bottle', 'surfaces', 'all surfaces', 'a multi-purpose cleaning spray', 'clean', 'a plant-based formula', 'plant-based formula', 'a house cleaning spray', 'household cleaning', 'clean fills', 'cleaning']\n",
      "\n"
     ]
    }
   ],
   "source": [
    "#generate keywords\n",
    "\n",
    "def extract_keywords(product_data, generated_copies, initial_kws, num_suggestions=10):\n",
    "    stop_words = spacy.lang.en.stop_words.STOP_WORDS\n",
    "\n",
    "    # combine all relevant text into one big string\n",
    "    all_combined_text = \" \".join([product_data[\"name\"], product_data[\"category\"],\n",
    "                                  product_data[\"raw_description\"]] +\n",
    "                                 product_data[\"features\"] +\n",
    "                                 product_data[\"benefits\"] +\n",
    "                                 product_data[\"usps\"] +\n",
    "                                 generated_copies)\n",
    "\n",
    "    # use spaCy to find important noun phrases \n",
    "    doc = nlp(all_combined_text.lower())\n",
    "    phrases = [chunk.text for chunk in doc.noun_chunks]\n",
    "\n",
    "    # combine initial keywords with new phrases\n",
    "    potential_keywords = list(set(initial_kws + phrases))\n",
    "    # Filter out very short or stop-word heavy phrases\n",
    "    potential_keywords = [kw for kw in potential_keywords if len(kw.split()) <= 4 and kw not in stop_words]\n",
    "\n",
    "    if not potential_keywords:\n",
    "        return [] # no keywords to suggest\n",
    "\n",
    "    # use TF-IDF to find important words in the text\n",
    "    vectorizer = TfidfVectorizer(stop_words='english', ngram_range=(1, 3))\n",
    "    try:\n",
    "        \n",
    "        tfidf_matrix = vectorizer.fit_transform([all_combined_text] + potential_keywords)\n",
    "    except ValueError:\n",
    "        return list(set(initial_kws)) # Fallback if TF-IDF fails\n",
    "\n",
    "    # calculate how similar each potential keyword is to the main text\n",
    "    text_vector = tfidf_matrix[0:1]\n",
    "    keyword_vectors = tfidf_matrix[1:]\n",
    "    similarities = cosine_similarity(text_vector, keyword_vectors).flatten()\n",
    "\n",
    "    # sort keywords by their similarity score\n",
    "    keyword_scores = sorted(zip(potential_keywords, similarities), key=lambda x: x[1], reverse=True)\n",
    "\n",
    "    # for top relevant keywords\n",
    "    suggested = [kw for kw, score in keyword_scores if score > 0.01] # Filter out very low scores\n",
    "\n",
    "    final_keywords = []\n",
    "    seen = set()\n",
    "    for kw in suggested:\n",
    "        if kw not in seen:\n",
    "            final_keywords.append(kw)\n",
    "            seen.add(kw)\n",
    "        if len(final_keywords) >= num_suggestions:\n",
    "            break\n",
    "\n",
    "    # ensure product name and category are usually among the top suggestions\n",
    "    if product_data[\"name\"].lower() not in final_keywords[:num_suggestions]:\n",
    "        final_keywords.insert(0, product_data[\"name\"].lower())\n",
    "    if product_data[\"category\"].lower() not in final_keywords[:num_suggestions]:\n",
    "        final_keywords.insert(1, product_data[\"category\"].lower())\n",
    "\n",
    "\n",
    "    return final_keywords[:num_suggestions]\n",
    "\n",
    "\n",
    "print(\" Suggesting Keywords \")\n",
    "suggested_keywords = extract_keywords(\n",
    "    processed_product_info,\n",
    "    all_generated_copies,\n",
    "    initial_keywords,\n",
    "    num_suggestions=15\n",
    ")\n",
    "print(f\"Suggested Keywords: {suggested_keywords}\\n\")"
   ]
  },
  {
   "cell_type": "code",
   "execution_count": 42,
   "id": "7811067b-042b-42a2-8fac-3cdb35182379",
   "metadata": {},
   "outputs": [
    {
     "name": "stdout",
     "output_type": "stream",
     "text": [
      "\n",
      " Product Example: Smartwatch\n",
      "\n",
      " Processed Smartwatch Data \n",
      "Product Name: FuturaX Smartwatch Pro\n",
      "Category: Wearable Technology\n",
      "Initial Keywords: ['futurax smartwatch pro', 'wearable technology', 'heart rate monitoring', 'blood oxygen sensor', 'built-in gps', '5-day battery life', 'water resistant (5 atm)', 'amoled display', 'smartphone notifications', 'wearable technology futurax smartwatch pro']\n",
      "\n",
      " Generating Smartwatch Copy (Medium) \n",
      "Smartwatch Medium Copy 1:\n",
      "The FuturaX Smartwatch Pro is a smartwatch that monitors your heart rate, blood oxygen, and blood pressure. It is designed to be worn in the water and is waterproof. Its battery life is 5 days.\n",
      "\n",
      " Suggesting Smartwatch Keywords \n",
      "Suggested Smartwatch Keywords: ['its battery life', 'wearable technology', 'futurax smartwatch pro', '5-day battery life', 'long battery life', 'the futurax smartwatch', 'a smartwatch', 'blood oxygen sensor', 'heart rate monitoring', 'blood oxygen', 'heart rate', 'your heart rate', 'health monitoring', 'popular fitness apps', 'water resistant (5 atm)']\n",
      "\n"
     ]
    }
   ],
   "source": [
    "\n",
    "print(\"\\n Product Example: Smartwatch\")\n",
    "smartwatch_data_input = {\n",
    "    \"name\": \"FuturaX Smartwatch Pro\",\n",
    "    \"category\": \"Wearable Technology\",\n",
    "    \"description\": \"Advanced smartwatch with health monitoring, GPS, and long battery life. Stay connected and track your fitness goals effortlessly.\",\n",
    "    \"features\": [\n",
    "        \"Heart rate monitoring\",\n",
    "        \"Blood oxygen sensor\",\n",
    "        \"Built-in GPS\",\n",
    "        \"5-day battery life\",\n",
    "        \"Water resistant (5 ATM)\",\n",
    "        \"AMOLED display\",\n",
    "        \"Smartphone notifications\"\n",
    "    ],\n",
    "    \"benefits\": [\n",
    "        \"Comprehensive health tracking\",\n",
    "        \"Accurate outdoor activity tracking\",\n",
    "        \"Freedom from daily charging\",\n",
    "        \"Suitable for swimming\",\n",
    "        \"Vibrant and clear visuals\",\n",
    "        \"Never miss an important alert\"\n",
    "    ],\n",
    "    \"usps\": [\n",
    "        \"Industry-leading battery life for a smartwatch of its class\",\n",
    "        \"Seamless integration with popular fitness apps\",\n",
    "        \"Sleek and durable design\"\n",
    "    ],\n",
    "    \"target_audience\": \"Fitness enthusiasts, tech-savvy individuals, busy professionals\",\n",
    "    \"tone_of_voice\": \"Modern, authoritative, exciting\"\n",
    "}\n",
    "\n",
    "# Process the new product data\n",
    "processed_smartwatch_info = {\n",
    "    \"name\": clean_text(smartwatch_data_input.get(\"name\", \"\")),\n",
    "    \"category\": clean_text(smartwatch_data_input.get(\"category\", \"\")),\n",
    "    \"raw_description\": clean_text(smartwatch_data_input.get(\"description\", \"\")),\n",
    "    \"features\": [clean_text(f) for f in smartwatch_data_input.get(\"features\", []) if f],\n",
    "    \"benefits\": [clean_text(b) for b in smartwatch_data_input.get(\"benefits\", []) if b],\n",
    "    \"usps\": [clean_text(u) for u in smartwatch_data_input.get(\"usps\", []) if u],\n",
    "    \"target_audience\": clean_text(smartwatch_data_input.get(\"target_audience\", \"general consumers\")),\n",
    "    \"tone_of_voice\": clean_text(smartwatch_data_input.get(\"tone_of_voice\", \"informative\"))\n",
    "}\n",
    "if not processed_smartwatch_info[\"benefits\"] and processed_smartwatch_info[\"features\"]:\n",
    "    processed_smartwatch_info[\"benefits\"] = processed_smartwatch_info[\"features\"]\n",
    "\n",
    "initial_smartwatch_keywords = [\n",
    "    processed_smartwatch_info[\"name\"].lower(),\n",
    "    processed_smartwatch_info[\"category\"].lower()\n",
    "]\n",
    "initial_smartwatch_keywords.extend([f.lower() for f in processed_smartwatch_info[\"features\"]])\n",
    "initial_smartwatch_keywords.append(f\"{processed_smartwatch_info['category'].lower()} {processed_smartwatch_info['name'].lower()}\")\n",
    "\n",
    "print(\"\\n Processed Smartwatch Data \")\n",
    "print(f\"Product Name: {processed_smartwatch_info['name']}\")\n",
    "print(f\"Category: {processed_smartwatch_info['category']}\")\n",
    "print(f\"Initial Keywords: {initial_smartwatch_keywords}\\n\")\n",
    "\n",
    "# Generate copy for the smartwatch\n",
    "print(\" Generating Smartwatch Copy (Medium) \")\n",
    "smartwatch_medium_copies = generate_product_copy(processed_smartwatch_info, length=\"medium\", num_variations=1)\n",
    "for i, copy in enumerate(smartwatch_medium_copies):\n",
    "    print(f\"Smartwatch Medium Copy {i+1}:\\n{copy}\\n\")\n",
    "\n",
    "# Suggest keywords for the smartwatch\n",
    "print(\" Suggesting Smartwatch Keywords \")\n",
    "suggested_smartwatch_keywords = extract_keywords(\n",
    "    processed_smartwatch_info,\n",
    "    smartwatch_medium_copies, # Using the generated copy for keywords\n",
    "    initial_smartwatch_keywords,\n",
    "    num_suggestions=15\n",
    ")\n",
    "print(f\"Suggested Smartwatch Keywords: {suggested_smartwatch_keywords}\\n\")"
   ]
  },
  {
   "cell_type": "code",
   "execution_count": null,
   "id": "7a379d13-1922-40bb-be11-659ef51fc983",
   "metadata": {},
   "outputs": [],
   "source": []
  }
 ],
 "metadata": {
  "kernelspec": {
   "display_name": "Python 3 (ipykernel)",
   "language": "python",
   "name": "python3"
  },
  "language_info": {
   "codemirror_mode": {
    "name": "ipython",
    "version": 3
   },
   "file_extension": ".py",
   "mimetype": "text/x-python",
   "name": "python",
   "nbconvert_exporter": "python",
   "pygments_lexer": "ipython3",
   "version": "3.10.11"
  }
 },
 "nbformat": 4,
 "nbformat_minor": 5
}
